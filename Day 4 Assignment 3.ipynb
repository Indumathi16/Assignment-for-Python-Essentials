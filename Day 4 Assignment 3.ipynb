{
 "cells": [
  {
   "cell_type": "code",
   "execution_count": 1,
   "metadata": {},
   "outputs": [
    {
     "name": "stdout",
     "output_type": "stream",
     "text": [
      "File 1:\n",
      "Hai I am Indumathi,\n",
      "Welcome to my program...\n",
      "File 2:\n",
      "Python Program to merge two files in a third file was executed successfully!!!!\n",
      "File 3:\n",
      "Hai I am Indumathi,\n",
      "Welcome to my program...\n",
      "Python Program to merge two files in a third file was executed successfully!!!!\n"
     ]
    }
   ],
   "source": [
    "#Python program to merge two files into a third file.\n",
    "with open('D:///anaconda python//file1.txt') as fp: \n",
    "    data = fp.read() \n",
    "    print(\"File 1:\\n\"+data)\n",
    "  \n",
    "# Reading data from file2 \n",
    "with open('D:///anaconda python//file2.txt') as fp: \n",
    "    data2 = fp.read()\n",
    "    print(\"File 2:\\n\"+data2) \n",
    "  \n",
    "# Merging 2 files \n",
    "# To add the data of file2 \n",
    "# from next line \n",
    "data += \"\\n\"\n",
    "data += data2 \n",
    "  \n",
    "with open ('D:///anaconda python//file3.txt', 'w') as fp: \n",
    "    fp.write(data)\n",
    "    print(\"File 3:\\n\"+data)"
   ]
  },
  {
   "cell_type": "code",
   "execution_count": null,
   "metadata": {},
   "outputs": [],
   "source": [
    "\n"
   ]
  },
  {
   "cell_type": "code",
   "execution_count": 2,
   "metadata": {},
   "outputs": [
    {
     "name": "stdout",
     "output_type": "stream",
     "text": [
      "dictionary =  {1: 'a', 2: 'b', 3: 'c', 4: 'd', 5: 'e'}\n"
     ]
    }
   ],
   "source": [
    "#Take two lists as input list1 = [1,2,3,4,5] and list2 = [\"a\", \"b\", \"c\", \"d\", \"e\"] From that make a\n",
    "#dictionary ouput {1:\"a\", 2:\"b\", 3:\"c\", 4:\"d\", 5:\"e\"}\n",
    "\n",
    "list1=[1,2,3,4,5]\n",
    "list2 = ['a', 'b', 'c','d','e']\n",
    "dictionary = dict(zip(list1, list2))\n",
    "print(\"dictionary = \",dictionary)"
   ]
  },
  {
   "cell_type": "code",
   "execution_count": null,
   "metadata": {},
   "outputs": [],
   "source": []
  }
 ],
 "metadata": {
  "kernelspec": {
   "display_name": "Python 3",
   "language": "python",
   "name": "python3"
  },
  "language_info": {
   "codemirror_mode": {
    "name": "ipython",
    "version": 3
   },
   "file_extension": ".py",
   "mimetype": "text/x-python",
   "name": "python",
   "nbconvert_exporter": "python",
   "pygments_lexer": "ipython3",
   "version": "3.8.5"
  }
 },
 "nbformat": 4,
 "nbformat_minor": 4
}
